{
  "nbformat": 4,
  "nbformat_minor": 0,
  "metadata": {
    "colab": {
      "provenance": [],
      "authorship_tag": "ABX9TyNf0W5+VDH8lXk1xSY1MU6w",
      "include_colab_link": true
    },
    "kernelspec": {
      "name": "python3",
      "display_name": "Python 3"
    },
    "language_info": {
      "name": "python"
    }
  },
  "cells": [
    {
      "cell_type": "markdown",
      "metadata": {
        "id": "view-in-github",
        "colab_type": "text"
      },
      "source": [
        "<a href=\"https://colab.research.google.com/github/rbb-99/person-identification-with-footstep-audio/blob/main/IdentifyPersonFromHisFootsteps.ipynb\" target=\"_parent\"><img src=\"https://colab.research.google.com/assets/colab-badge.svg\" alt=\"Open In Colab\"/></a>"
      ]
    },
    {
      "cell_type": "markdown",
      "source": [
        "# Introduction"
      ],
      "metadata": {
        "id": "wnFloDlVK57c"
      }
    },
    {
      "cell_type": "markdown",
      "source": [
        "This problem can be solved using a couple of approaches like clustering the features extracted from the audio wave (K-means, DBSCAN, GMM, Agglomerative clustering), using the classification approach that uses CNNs/RNNs, statistical methods, template matching, etc.\n",
        "<br>We can also employ an ensemble of a variety of methods stated above.\n",
        "<br>\n",
        "<br>\n",
        "Although, a problem with deep learning approach would be limited amount of data and using pretrained models won't give out the best results because none of them are characterized by footstep audios.\n",
        "<br>\n",
        "<br>\n",
        "So here, we'll go for one of the unsupervised learning method in machine learning, an extension of KMeans Clustering, called Gaussian Mixture Models (GMM), a more robust model that can be used on real world data using Gaussian components.\n",
        "<br>\n",
        "With GMM, we effectively create a generative model for the data X, a probability model, which means we can do a lot of useful tasks like\n",
        "- sampling new examples that we think are like the data that we measured\n",
        "- comparing the collection data like the training and the test set to see if they differ\n",
        "- imputing missing values from our data."
      ],
      "metadata": {
        "id": "5r74pdlQrQPM"
      }
    },
    {
      "cell_type": "markdown",
      "source": [
        "# Get data"
      ],
      "metadata": {
        "id": "ooSR2im4wpkg"
      }
    },
    {
      "cell_type": "code",
      "source": [
        "!gdown --id '16DpLzP9TFFySH4r1X4E0dJkpDEII1aO6'"
      ],
      "metadata": {
        "colab": {
          "base_uri": "https://localhost:8080/"
        },
        "id": "y5QsWEf8vEVO",
        "outputId": "8467940b-1c52-44c7-a1bb-1ec3899e8370"
      },
      "execution_count": 1,
      "outputs": [
        {
          "output_type": "stream",
          "name": "stdout",
          "text": [
            "/usr/local/lib/python3.10/dist-packages/gdown/cli.py:121: FutureWarning: Option `--id` was deprecated in version 4.3.1 and will be removed in 5.0. You don't need to pass it anymore to use a file ID.\n",
            "  warnings.warn(\n",
            "Downloading...\n",
            "From: https://drive.google.com/uc?id=16DpLzP9TFFySH4r1X4E0dJkpDEII1aO6\n",
            "To: /content/AB.7z\n",
            "100% 87.4M/87.4M [00:00<00:00, 98.4MB/s]\n"
          ]
        }
      ]
    },
    {
      "cell_type": "code",
      "source": [
        "!pip3 install py7zr"
      ],
      "metadata": {
        "colab": {
          "base_uri": "https://localhost:8080/"
        },
        "id": "8iv8Tx3sCDmE",
        "outputId": "a2cb206e-5365-4ea5-d9f2-92684eaa99eb"
      },
      "execution_count": 3,
      "outputs": [
        {
          "output_type": "stream",
          "name": "stdout",
          "text": [
            "Collecting py7zr\n",
            "  Downloading py7zr-0.20.5-py3-none-any.whl (66 kB)\n",
            "\u001b[?25l     \u001b[90m━━━━━━━━━━━━━━━━━━━━━━━━━━━━━━━━━━━━━━━━\u001b[0m \u001b[32m0.0/66.4 kB\u001b[0m \u001b[31m?\u001b[0m eta \u001b[36m-:--:--\u001b[0m\r\u001b[2K     \u001b[90m━━━━━━━━━━━━━━━━━━━━━━━━━━━━━━━━━━━━━━━━\u001b[0m \u001b[32m66.4/66.4 kB\u001b[0m \u001b[31m2.7 MB/s\u001b[0m eta \u001b[36m0:00:00\u001b[0m\n",
            "\u001b[?25hCollecting texttable (from py7zr)\n",
            "  Downloading texttable-1.6.7-py2.py3-none-any.whl (10 kB)\n",
            "Collecting pycryptodomex>=3.6.6 (from py7zr)\n",
            "  Downloading pycryptodomex-3.18.0-cp35-abi3-manylinux_2_17_x86_64.manylinux2014_x86_64.whl (2.1 MB)\n",
            "\u001b[2K     \u001b[90m━━━━━━━━━━━━━━━━━━━━━━━━━━━━━━━━━━━━━━━━\u001b[0m \u001b[32m2.1/2.1 MB\u001b[0m \u001b[31m30.3 MB/s\u001b[0m eta \u001b[36m0:00:00\u001b[0m\n",
            "\u001b[?25hCollecting pyzstd>=0.14.4 (from py7zr)\n",
            "  Downloading pyzstd-0.15.9-cp310-cp310-manylinux_2_17_x86_64.manylinux2014_x86_64.whl (412 kB)\n",
            "\u001b[2K     \u001b[90m━━━━━━━━━━━━━━━━━━━━━━━━━━━━━━━━━━━━━━\u001b[0m \u001b[32m412.3/412.3 kB\u001b[0m \u001b[31m31.5 MB/s\u001b[0m eta \u001b[36m0:00:00\u001b[0m\n",
            "\u001b[?25hCollecting pyppmd<1.1.0,>=0.18.1 (from py7zr)\n",
            "  Downloading pyppmd-1.0.0-cp310-cp310-manylinux_2_17_x86_64.manylinux2014_x86_64.whl (138 kB)\n",
            "\u001b[2K     \u001b[90m━━━━━━━━━━━━━━━━━━━━━━━━━━━━━━━━━━━━━━\u001b[0m \u001b[32m138.8/138.8 kB\u001b[0m \u001b[31m12.0 MB/s\u001b[0m eta \u001b[36m0:00:00\u001b[0m\n",
            "\u001b[?25hCollecting pybcj>=0.6.0 (from py7zr)\n",
            "  Downloading pybcj-1.0.1-cp310-cp310-manylinux_2_17_x86_64.manylinux2014_x86_64.whl (49 kB)\n",
            "\u001b[2K     \u001b[90m━━━━━━━━━━━━━━━━━━━━━━━━━━━━━━━━━━━━━━━━\u001b[0m \u001b[32m49.8/49.8 kB\u001b[0m \u001b[31m3.6 MB/s\u001b[0m eta \u001b[36m0:00:00\u001b[0m\n",
            "\u001b[?25hCollecting multivolumefile>=0.2.3 (from py7zr)\n",
            "  Downloading multivolumefile-0.2.3-py3-none-any.whl (17 kB)\n",
            "Collecting brotli>=1.0.9 (from py7zr)\n",
            "  Downloading Brotli-1.0.9-cp310-cp310-manylinux_2_5_x86_64.manylinux1_x86_64.manylinux_2_12_x86_64.manylinux2010_x86_64.whl (2.7 MB)\n",
            "\u001b[2K     \u001b[90m━━━━━━━━━━━━━━━━━━━━━━━━━━━━━━━━━━━━━━━━\u001b[0m \u001b[32m2.7/2.7 MB\u001b[0m \u001b[31m52.6 MB/s\u001b[0m eta \u001b[36m0:00:00\u001b[0m\n",
            "\u001b[?25hCollecting inflate64>=0.3.1 (from py7zr)\n",
            "  Downloading inflate64-0.3.1-cp310-cp310-manylinux_2_17_x86_64.manylinux2014_x86_64.whl (93 kB)\n",
            "\u001b[2K     \u001b[90m━━━━━━━━━━━━━━━━━━━━━━━━━━━━━━━━━━━━━━━━\u001b[0m \u001b[32m93.1/93.1 kB\u001b[0m \u001b[31m8.4 MB/s\u001b[0m eta \u001b[36m0:00:00\u001b[0m\n",
            "\u001b[?25hRequirement already satisfied: psutil in /usr/local/lib/python3.10/dist-packages (from py7zr) (5.9.5)\n",
            "Installing collected packages: texttable, brotli, pyzstd, pyppmd, pycryptodomex, pybcj, multivolumefile, inflate64, py7zr\n",
            "Successfully installed brotli-1.0.9 inflate64-0.3.1 multivolumefile-0.2.3 py7zr-0.20.5 pybcj-1.0.1 pycryptodomex-3.18.0 pyppmd-1.0.0 pyzstd-0.15.9 texttable-1.6.7\n"
          ]
        }
      ]
    },
    {
      "cell_type": "code",
      "source": [
        "import py7zr\n",
        "with py7zr.SevenZipFile('/content/AB.7z', mode='r') as archive:\n",
        "    archive.extractall(path='/content/data')"
      ],
      "metadata": {
        "id": "O0GzGC75ui9m"
      },
      "execution_count": 4,
      "outputs": []
    },
    {
      "cell_type": "code",
      "source": [
        "!unzip '/content/data/A.zip' -d '/content/data/'"
      ],
      "metadata": {
        "colab": {
          "base_uri": "https://localhost:8080/"
        },
        "id": "b96tAiS0vpzi",
        "outputId": "6ba8c674-b4ca-4b77-f7cc-0a7d551de5c3"
      },
      "execution_count": null,
      "outputs": [
        {
          "output_type": "stream",
          "name": "stdout",
          "text": [
            "Archive:  /content/data/A.zip\n",
            "   creating: /content/data/A/\n",
            "  inflating: /content/data/A/STE-054_person A.wav  \n",
            "  inflating: /content/data/A/STE-055_person A.wav  \n",
            "  inflating: /content/data/A/STE-056_person A.wav  \n",
            "  inflating: /content/data/A/STE-057_person A.wav  \n",
            "  inflating: /content/data/A/STE-058_person A.wav  \n",
            "  inflating: /content/data/A/STE-064_person A.wav  \n",
            "  inflating: /content/data/A/STE-065_person A.wav  \n",
            "  inflating: /content/data/A/STE-066_person A.wav  \n",
            "  inflating: /content/data/A/STE-067_person A.wav  \n",
            "  inflating: /content/data/A/STE-068_person A.wav  \n",
            "  inflating: /content/data/A/STE-101_person A.wav  \n",
            "  inflating: /content/data/A/STE-102_person A.wav  \n",
            "  inflating: /content/data/A/STE-103_person A.wav  \n",
            "  inflating: /content/data/A/STE-104_person A.wav  \n",
            "  inflating: /content/data/A/STE-105_person A.wav  \n",
            "  inflating: /content/data/A/STE-106_person A.wav  \n",
            "  inflating: /content/data/A/STE-107_person A.wav  \n",
            "  inflating: /content/data/A/STE-108_person A.wav  \n",
            "  inflating: /content/data/A/STE-109_person A.wav  \n",
            "  inflating: /content/data/A/STE-110_person A.wav  \n",
            "  inflating: /content/data/A/STE-111_person A.wav  \n",
            "  inflating: /content/data/A/STE-112_person A.wav  \n",
            "  inflating: /content/data/A/STE-113_person A.wav  \n",
            "  inflating: /content/data/A/STE-114_person A.wav  \n",
            "  inflating: /content/data/A/STE-115_person A.wav  \n"
          ]
        }
      ]
    },
    {
      "cell_type": "code",
      "source": [
        "!unzip '/content/data/B.zip' -d '/content/data/'"
      ],
      "metadata": {
        "colab": {
          "base_uri": "https://localhost:8080/"
        },
        "id": "p5HJHSbgwR7y",
        "outputId": "0638c07c-9d14-4752-ebd6-e66d4143155c"
      },
      "execution_count": null,
      "outputs": [
        {
          "output_type": "stream",
          "name": "stdout",
          "text": [
            "Archive:  /content/data/B.zip\n",
            "   creating: /content/data/B/\n",
            "  inflating: /content/data/B/STE-059_person B.wav  \n",
            "  inflating: /content/data/B/STE-060_person B.wav  \n",
            "  inflating: /content/data/B/STE-061_person B.wav  \n",
            "  inflating: /content/data/B/STE-062_person B.wav  \n",
            "  inflating: /content/data/B/STE-063_person B.wav  \n",
            "  inflating: /content/data/B/STE-080_person B.wav  \n",
            "  inflating: /content/data/B/STE-081_person B.wav  \n",
            "  inflating: /content/data/B/STE-082_person B.wav  \n",
            "  inflating: /content/data/B/STE-083_person B.wav  \n",
            "  inflating: /content/data/B/STE-084_person B.wav  \n",
            "  inflating: /content/data/B/STE-085_person B.wav  \n",
            "  inflating: /content/data/B/STE-086_person B.wav  \n",
            "  inflating: /content/data/B/STE-087_person B.wav  \n",
            "  inflating: /content/data/B/STE-088_person B.wav  \n",
            "  inflating: /content/data/B/STE-089_person B.wav  \n",
            "  inflating: /content/data/B/STE-090_person B.wav  \n",
            "  inflating: /content/data/B/STE-091_person B.wav  \n",
            "  inflating: /content/data/B/STE-092_person B.wav  \n",
            "  inflating: /content/data/B/STE-093_person B.wav  \n",
            "  inflating: /content/data/B/STE-094_person B.wav  \n",
            "  inflating: /content/data/B/STE-095_person B.wav  \n",
            "  inflating: /content/data/B/STE-096_person B.wav  \n",
            "  inflating: /content/data/B/STE-097_person B.wav  \n",
            "  inflating: /content/data/B/STE-098_person B.wav  \n",
            "  inflating: /content/data/B/STE-099_person B.wav  \n",
            "  inflating: /content/data/B/STE-100_person B.wav  \n"
          ]
        }
      ]
    },
    {
      "cell_type": "code",
      "source": [
        "!rm -r AB.7z data/A.zip data/B.zip"
      ],
      "metadata": {
        "id": "qzge4wrLwYv-"
      },
      "execution_count": null,
      "outputs": []
    },
    {
      "cell_type": "markdown",
      "source": [
        "# Library imports"
      ],
      "metadata": {
        "id": "RxqfecKwxPIx"
      }
    },
    {
      "cell_type": "code",
      "source": [
        "import os\n",
        "import numpy as np\n",
        "import pandas as pd\n",
        "from scipy.io import wavfile as wav\n",
        "from sklearn import mixture\n",
        "import python_speech_features\n",
        "from sklearn import preprocessing\n",
        "import pickle\n",
        "\n",
        "import warnings\n",
        "warnings.filterwarnings(\"ignore\")"
      ],
      "metadata": {
        "id": "IfQ0AwUFxOhw"
      },
      "execution_count": null,
      "outputs": []
    },
    {
      "cell_type": "markdown",
      "source": [
        "# Restructure the folder"
      ],
      "metadata": {
        "id": "HUsjB7Oahr0j"
      }
    },
    {
      "cell_type": "code",
      "source": [
        "path_A = 'data/A'\n",
        "path_B = 'data/B'\n",
        "\n",
        "audio_files_A = [file for file in os.listdir(path_A)]\n",
        "audio_files_B = [file for file in os.listdir(path_B)]\n",
        "\n",
        "print(audio_files_A)\n",
        "print(audio_files_B)\n",
        "\n",
        "count_A = len(audio_files_A)\n",
        "count_B = len(audio_files_B)\n",
        "\n",
        "print(\"Number of audio files in folder A:\", count_A)\n",
        "print(\"Number of audio files in folder B:\", count_B)"
      ],
      "metadata": {
        "colab": {
          "base_uri": "https://localhost:8080/"
        },
        "id": "0SNCzaNXiS0x",
        "outputId": "a8f66eb2-bc12-4361-b326-d9888ec23cba"
      },
      "execution_count": null,
      "outputs": [
        {
          "output_type": "stream",
          "name": "stdout",
          "text": [
            "['STE-113_person A.wav', 'STE-066_person A.wav', 'STE-106_person A.wav', 'STE-056_person A.wav', 'STE-055_person A.wav', 'STE-054_person A.wav', 'STE-064_person A.wav', 'STE-114_person A.wav', 'STE-101_person A.wav', 'STE-107_person A.wav', 'STE-104_person A.wav', 'STE-067_person A.wav', 'STE-058_person A.wav', 'STE-108_person A.wav', 'STE-109_person A.wav', 'STE-102_person A.wav', 'STE-112_person A.wav', 'STE-105_person A.wav', 'STE-057_person A.wav', 'STE-103_person A.wav', 'STE-068_person A.wav', 'STE-065_person A.wav', 'STE-115_person A.wav', 'STE-110_person A.wav', 'STE-111_person A.wav']\n",
            "['STE-060_person B.wav', 'STE-083_person B.wav', 'STE-090_person B.wav', 'STE-087_person B.wav', 'STE-085_person B.wav', 'STE-098_person B.wav', 'STE-095_person B.wav', 'STE-080_person B.wav', 'STE-099_person B.wav', 'STE-089_person B.wav', 'STE-084_person B.wav', 'STE-096_person B.wav', 'STE-061_person B.wav', 'STE-059_person B.wav', 'STE-082_person B.wav', 'STE-081_person B.wav', 'STE-088_person B.wav', 'STE-097_person B.wav', 'STE-091_person B.wav', 'STE-062_person B.wav', 'STE-086_person B.wav', 'STE-094_person B.wav', 'STE-063_person B.wav', 'STE-100_person B.wav', 'STE-092_person B.wav', 'STE-093_person B.wav']\n",
            "Number of audio files in folder A: 25\n",
            "Number of audio files in folder B: 26\n"
          ]
        }
      ]
    },
    {
      "cell_type": "code",
      "source": [
        "!mkdir test"
      ],
      "metadata": {
        "id": "S14RyQXiZDvD"
      },
      "execution_count": null,
      "outputs": []
    },
    {
      "cell_type": "code",
      "source": [
        "# Let's take out any 2 files from B and 1 file from A for testing\n",
        "!mv 'data/A/STE-107_person A.wav' 'test'"
      ],
      "metadata": {
        "id": "ifWTfkWwi0JL"
      },
      "execution_count": null,
      "outputs": []
    },
    {
      "cell_type": "code",
      "source": [
        "!mv 'data/B/STE-085_person B.wav' 'test'\n",
        "!mv 'data/B/STE-097_person B.wav' 'test'"
      ],
      "metadata": {
        "id": "pMnBaqXajpAP"
      },
      "execution_count": null,
      "outputs": []
    },
    {
      "cell_type": "code",
      "source": [
        "# A had 25 files and B had 26 files, now both have 24 files"
      ],
      "metadata": {
        "id": "8bfzDZmRj__1"
      },
      "execution_count": null,
      "outputs": []
    },
    {
      "cell_type": "code",
      "source": [
        "!mkdir Models # save the clustering models here to later perform clustering ensemble"
      ],
      "metadata": {
        "id": "9biS73GXML8E"
      },
      "execution_count": null,
      "outputs": []
    },
    {
      "cell_type": "markdown",
      "source": [
        "# Quick EDA"
      ],
      "metadata": {
        "id": "pCVciDXixETD"
      }
    },
    {
      "cell_type": "code",
      "source": [
        "filename='data/A/STE-054_person A.wav'"
      ],
      "metadata": {
        "id": "yycJaMi7xLXH"
      },
      "execution_count": null,
      "outputs": []
    },
    {
      "cell_type": "code",
      "source": [
        "wave_sample_rate, wave_audio = wav.read(filename)\n",
        "print(wave_sample_rate) ## ~44kHz\n",
        "print(wave_audio)"
      ],
      "metadata": {
        "colab": {
          "base_uri": "https://localhost:8080/"
        },
        "id": "HZ8_82FG27Gc",
        "outputId": "761df7d1-6ba1-445e-87f5-5f1c8520662b"
      },
      "execution_count": null,
      "outputs": [
        {
          "output_type": "stream",
          "name": "stdout",
          "text": [
            "44100\n",
            "[[-586 1593]\n",
            " [-536 1605]\n",
            " [-500 1581]\n",
            " ...\n",
            " [ -32  481]\n",
            " [ -45  476]\n",
            " [ -91  473]]\n"
          ]
        }
      ]
    },
    {
      "cell_type": "markdown",
      "source": [
        "# Initialize constants"
      ],
      "metadata": {
        "id": "BwwifeFCFv3s"
      }
    },
    {
      "cell_type": "code",
      "source": [
        "path_A='data/A'\n",
        "path_B='data/B'"
      ],
      "metadata": {
        "id": "PwChzji0Lhk1"
      },
      "execution_count": null,
      "outputs": []
    },
    {
      "cell_type": "code",
      "source": [
        "# Create the training paths array\n",
        "train_paths_array=[]\n",
        "\n",
        "def create_train_paths_array(folder_paths):\n",
        "    for folder_path in folder_paths:\n",
        "        for filename in os.listdir(folder_path):\n",
        "          if filename.endswith(\".wav\"):\n",
        "            file_path = os.path.join(folder_path, filename)\n",
        "            train_paths_array.append(file_path)\n",
        "\n",
        "create_train_paths_array([path_A,path_B])\n",
        "\n",
        "print(train_paths_array)"
      ],
      "metadata": {
        "colab": {
          "base_uri": "https://localhost:8080/"
        },
        "id": "24b4lb9rOt42",
        "outputId": "6320649c-9447-4411-a4d8-431eb3de9416"
      },
      "execution_count": null,
      "outputs": [
        {
          "output_type": "stream",
          "name": "stdout",
          "text": [
            "['data/A/STE-113_person A.wav', 'data/A/STE-066_person A.wav', 'data/A/STE-106_person A.wav', 'data/A/STE-056_person A.wav', 'data/A/STE-055_person A.wav', 'data/A/STE-054_person A.wav', 'data/A/STE-064_person A.wav', 'data/A/STE-114_person A.wav', 'data/A/STE-101_person A.wav', 'data/A/STE-104_person A.wav', 'data/A/STE-067_person A.wav', 'data/A/STE-058_person A.wav', 'data/A/STE-108_person A.wav', 'data/A/STE-109_person A.wav', 'data/A/STE-102_person A.wav', 'data/A/STE-112_person A.wav', 'data/A/STE-105_person A.wav', 'data/A/STE-057_person A.wav', 'data/A/STE-103_person A.wav', 'data/A/STE-068_person A.wav', 'data/A/STE-065_person A.wav', 'data/A/STE-115_person A.wav', 'data/A/STE-110_person A.wav', 'data/A/STE-111_person A.wav', 'data/B/STE-060_person B.wav', 'data/B/STE-083_person B.wav', 'data/B/STE-090_person B.wav', 'data/B/STE-087_person B.wav', 'data/B/STE-098_person B.wav', 'data/B/STE-095_person B.wav', 'data/B/STE-080_person B.wav', 'data/B/STE-099_person B.wav', 'data/B/STE-089_person B.wav', 'data/B/STE-084_person B.wav', 'data/B/STE-096_person B.wav', 'data/B/STE-061_person B.wav', 'data/B/STE-059_person B.wav', 'data/B/STE-082_person B.wav', 'data/B/STE-081_person B.wav', 'data/B/STE-088_person B.wav', 'data/B/STE-091_person B.wav', 'data/B/STE-062_person B.wav', 'data/B/STE-086_person B.wav', 'data/B/STE-094_person B.wav', 'data/B/STE-063_person B.wav', 'data/B/STE-100_person B.wav', 'data/B/STE-092_person B.wav', 'data/B/STE-093_person B.wav']\n"
          ]
        }
      ]
    },
    {
      "cell_type": "code",
      "source": [
        "print(len(train_paths_array))"
      ],
      "metadata": {
        "colab": {
          "base_uri": "https://localhost:8080/"
        },
        "id": "5xy04nRkmyRD",
        "outputId": "9e75b446-7b8e-49bc-ef4a-842fea741177"
      },
      "execution_count": null,
      "outputs": [
        {
          "output_type": "stream",
          "name": "stdout",
          "text": [
            "48\n"
          ]
        }
      ]
    },
    {
      "cell_type": "code",
      "source": [
        "test_paths_array=[]\n",
        "def create_test_paths_array(folder):\n",
        "  for filename in os.listdir(folder):\n",
        "    if filename.endswith(\".wav\"):\n",
        "      file_path = os.path.join(folder, filename)\n",
        "      test_paths_array.append(file_path)\n",
        "create_test_paths_array('test')\n",
        "print(test_paths_array)"
      ],
      "metadata": {
        "colab": {
          "base_uri": "https://localhost:8080/"
        },
        "id": "y03GtKErhejA",
        "outputId": "c5b6906a-cd04-4192-b371-282a6219c3b6"
      },
      "execution_count": null,
      "outputs": [
        {
          "output_type": "stream",
          "name": "stdout",
          "text": [
            "['test/STE-085_person B.wav', 'test/STE-107_person A.wav', 'test/STE-097_person B.wav']\n"
          ]
        }
      ]
    },
    {
      "cell_type": "markdown",
      "source": [
        "# Feature Extraction"
      ],
      "metadata": {
        "id": "xFyDQYT0KUkR"
      }
    },
    {
      "cell_type": "code",
      "source": [
        "# get the delta coefficients of the given mfcc_array\n",
        "def get_delta_coeff(mfcc_array):\n",
        "    rows,cols = mfcc_array.shape\n",
        "    delta = np.zeros((rows,20)) # numcep=20\n",
        "    n = 2\n",
        "    for i in range(rows):\n",
        "        index = []\n",
        "        j=1\n",
        "        while j<=n:\n",
        "            if i-j<0:\n",
        "              first=0\n",
        "            else:\n",
        "              first=i-j\n",
        "            if i+j>rows-1:\n",
        "                second = rows-1\n",
        "            else:\n",
        "                second=i+j\n",
        "            index.append((second,first))\n",
        "            j+=1\n",
        "        delta[i]=(mfcc_array[index[0][0]]-mfcc_array[index[0][1]]+(2*(mfcc_array[index[1][0]]-mfcc_array[index[1][1]])))/10\n",
        "    return delta"
      ],
      "metadata": {
        "id": "Rsmz-Ar-OsCo"
      },
      "execution_count": null,
      "outputs": []
    },
    {
      "cell_type": "code",
      "source": [
        "def get_stacked_mfcc_features(audio,rate):\n",
        "    # trials with nfft=512,1024\n",
        "    mfcc_feature = python_speech_features.mfcc(audio, rate, winlen=0.025, winstep=0.01, numcep=20, nfft=1280, appendEnergy=True)\n",
        "    # print(mfcc_feature)\n",
        "    mfcc_feature = preprocessing.scale(mfcc_feature)\n",
        "    # print(mfcc_feature)\n",
        "    delta_mfcc_feature = get_delta_coeff(mfcc_feature)\n",
        "    # print(delta_mfcc_feature)\n",
        "    stacked_mfccs = np.hstack((mfcc_feature,delta_mfcc_feature))\n",
        "    return stacked_mfccs"
      ],
      "metadata": {
        "id": "jpvsDBtqIwvF"
      },
      "execution_count": null,
      "outputs": []
    },
    {
      "cell_type": "code",
      "source": [
        "print(get_stacked_mfcc_features(wave_audio,wave_sample_rate))\n",
        "print(get_stacked_mfcc_features(wave_audio,wave_sample_rate).shape)"
      ],
      "metadata": {
        "colab": {
          "base_uri": "https://localhost:8080/"
        },
        "id": "ZScJ4M-ZgUIa",
        "outputId": "abd789bf-f184-4e25-91d2-48cef930cc34"
      },
      "execution_count": null,
      "outputs": [
        {
          "output_type": "stream",
          "name": "stdout",
          "text": [
            "[[-0.4732636  -0.76344992  0.13700461 ... -0.33265516  0.04565319\n",
            "   0.48109093]\n",
            " [-0.54838327 -0.43633851 -0.35400001 ... -0.33922419  0.27606469\n",
            "   0.68510456]\n",
            " [ 0.04033391 -0.15148427  0.08769237 ... -0.07659365  0.36834332\n",
            "   0.52607129]\n",
            " ...\n",
            " [-1.58444926 -0.94348499  0.3071221  ... -0.25329237 -0.26925286\n",
            "   0.20468219]\n",
            " [-1.56440196 -1.10653256  0.07080522 ... -0.01639888 -0.08260036\n",
            "   0.47396134]\n",
            " [-1.71951627 -1.18431966  0.01329227 ...  0.19524037  0.10577802\n",
            "   0.30333364]]\n",
            "(2158, 40)\n"
          ]
        }
      ]
    },
    {
      "cell_type": "markdown",
      "source": [
        "# Train the GMM model"
      ],
      "metadata": {
        "id": "BGYDsqGh8fqW"
      }
    },
    {
      "cell_type": "code",
      "source": [
        "file_index_in_array = 1\n",
        "features = np.asarray(())\n",
        "\n",
        "for filename in train_paths_array:\n",
        "    wave_sample_rate,wave_audio=wav.read(filename)\n",
        "    vector=get_stacked_mfcc_features(wave_audio,wave_sample_rate)\n",
        "    if features.size==0:\n",
        "        features=vector\n",
        "    else:\n",
        "        features=np.vstack((features, vector))\n",
        "\n",
        "    if file_index_in_array == 24:\n",
        "        gmm = mixture.GaussianMixture(n_components=18, max_iter=250, covariance_type='diag',n_init=3)\n",
        "        gmm.fit(features)\n",
        "        model = filename[5]+\".gmm\"\n",
        "        pickle.dump(gmm,open('Models/' + model,'wb'))\n",
        "        print(model,\"saved with data shape:\",features.shape)\n",
        "        features = np.asarray(())\n",
        "        file_index_in_array = 0\n",
        "    file_index_in_array = file_index_in_array + 1"
      ],
      "metadata": {
        "colab": {
          "base_uri": "https://localhost:8080/"
        },
        "id": "LcFY-JhOgfD9",
        "outputId": "a7fc2e1c-c472-442d-f484-cbd5a9cc5a5f"
      },
      "execution_count": null,
      "outputs": [
        {
          "output_type": "stream",
          "name": "stdout",
          "text": [
            "A.gmm saved with data shape: (58377, 40)\n",
            "B.gmm saved with data shape: (49787, 40)\n"
          ]
        }
      ]
    },
    {
      "cell_type": "markdown",
      "source": [
        "# Test the GMM model"
      ],
      "metadata": {
        "id": "R_PltvmeLceK"
      }
    },
    {
      "cell_type": "code",
      "source": [
        "# initialize constants\n",
        "model_paths_array=[]\n",
        "def create_model_paths_array(folder):\n",
        "    for filename in os.listdir(folder):\n",
        "        if filename.endswith(\".gmm\"):\n",
        "            file_path = os.path.join(folder, filename)\n",
        "            model_paths_array.append(file_path)\n",
        "create_model_paths_array('Models')\n",
        "print(model_paths_array)"
      ],
      "metadata": {
        "colab": {
          "base_uri": "https://localhost:8080/"
        },
        "id": "29IkAWIMRkj6",
        "outputId": "2761e12a-9169-4080-a3bd-e7426ebb899a"
      },
      "execution_count": null,
      "outputs": [
        {
          "output_type": "stream",
          "name": "stdout",
          "text": [
            "['Models/A.gmm', 'Models/B.gmm']\n"
          ]
        }
      ]
    },
    {
      "cell_type": "code",
      "source": [
        "# load models\n",
        "models_array = [pickle.load(open(filename,'rb')) for filename in model_paths_array if filename.endswith('.gmm')]\n",
        "models_array"
      ],
      "metadata": {
        "colab": {
          "base_uri": "https://localhost:8080/"
        },
        "id": "3VipLqY9SnEF",
        "outputId": "5f883dd7-1c63-4736-f1d4-92ee7b7a54ee"
      },
      "execution_count": null,
      "outputs": [
        {
          "output_type": "execute_result",
          "data": {
            "text/plain": [
              "[GaussianMixture(covariance_type='diag', max_iter=250, n_components=18, n_init=3),\n",
              " GaussianMixture(covariance_type='diag', max_iter=250, n_components=18, n_init=3)]"
            ]
          },
          "metadata": {},
          "execution_count": 29
        }
      ]
    },
    {
      "cell_type": "code",
      "source": [
        "person_arr = [filename[7] for filename in model_paths_array if filename.endswith('.gmm')]\n",
        "person_arr"
      ],
      "metadata": {
        "colab": {
          "base_uri": "https://localhost:8080/"
        },
        "id": "CxE_lRJwTW23",
        "outputId": "da7c932f-3400-4102-ea5c-c55deccf4657"
      },
      "execution_count": null,
      "outputs": [
        {
          "output_type": "execute_result",
          "data": {
            "text/plain": [
              "['A', 'B']"
            ]
          },
          "metadata": {},
          "execution_count": 31
        }
      ]
    },
    {
      "cell_type": "code",
      "source": [
        "for filename in test_paths_array:\n",
        "  wave_sample_rate,wave_audio = wav.read(filename)\n",
        "  vector= get_stacked_mfcc_features(wave_audio,wave_sample_rate)\n",
        "  likelihood = np.zeros(len(models_array))\n",
        "  print('Actual person',filename[-5])\n",
        "  for i in range(len(models_array)):\n",
        "    gmm = models_array[i]\n",
        "    score = np.array(gmm.score(vector))\n",
        "    likelihood[i] = score.sum() # log likelihood\n",
        "\n",
        "  res = np.argmax(likelihood)\n",
        "  print(\"Predicted person\", person_arr[res])\n",
        "  print()"
      ],
      "metadata": {
        "colab": {
          "base_uri": "https://localhost:8080/"
        },
        "id": "PIFLZmHsNFWl",
        "outputId": "154e3a28-0303-4f69-d7d0-133116da2544"
      },
      "execution_count": null,
      "outputs": [
        {
          "output_type": "stream",
          "name": "stdout",
          "text": [
            "Actual person B\n",
            "Predicted person B\n",
            "\n",
            "Actual person A\n",
            "Predicted person A\n",
            "\n",
            "Actual person B\n",
            "Predicted person B\n",
            "\n"
          ]
        }
      ]
    },
    {
      "cell_type": "markdown",
      "source": [
        "------END OF CODE------"
      ],
      "metadata": {
        "id": "4amSdqTqUuMA"
      }
    },
    {
      "cell_type": "code",
      "source": [],
      "metadata": {
        "id": "yWSIcqBoX0mI"
      },
      "execution_count": null,
      "outputs": []
    }
  ]
}